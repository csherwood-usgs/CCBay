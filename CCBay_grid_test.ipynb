{
 "cells": [
  {
   "cell_type": "code",
   "execution_count": 4,
   "metadata": {},
   "outputs": [],
   "source": [
    "import numpy as np\n",
    "import pandas as pd\n",
    "from IPython.display import display, HTML\n",
    "import matplotlib.pyplot as plt\n",
    "from scipy import interpolate, signal\n",
    "\n",
    "%matplotlib inline"
   ]
  },
  {
   "cell_type": "code",
   "execution_count": 31,
   "metadata": {},
   "outputs": [],
   "source": [
    "# some functions used here\n",
    "def pcoord(x, y):\n",
    "    \"\"\"\n",
    "    Convert x, y to polar coordinates r, az (geographic convention)\n",
    "    r,az = pcoord(x, y)\n",
    "    \"\"\"\n",
    "    r  = np.sqrt( x**2 + y**2 )\n",
    "    az = np.degrees( np.arctan2(x, y) )\n",
    "    # az[where(az<0.)[0]] += 360.\n",
    "    az = (az+360.)%360.\n",
    "    return r, az\n",
    "\n",
    "def xycoord(r, az):\n",
    "    \"\"\"\n",
    "    Convert r, az [degrees, geographic convention] to rectangular coordinates\n",
    "    x,y = xycoord(r, az)\n",
    "    \"\"\"\n",
    "    x = r * np.sin(np.radians(az))\n",
    "    y = r * np.cos(np.radians(az))\n",
    "    return x, y\n",
    "\n",
    "def buildGrid(xp,yp,alp,dx,dy,mxc,myc):\n",
    "    '''\n",
    "    X, Y = buildGrid(xp,yp,alp,dx,dy,mxc,myc) builds a rectangular grid\n",
    "    \n",
    "    Input :\n",
    "        xp: x grid origin\n",
    "        yp: y grid origin\n",
    "        alp: degrees rotation of x-axis\n",
    "        dx: x-direction grid spacing\n",
    "        dy: y-direction grid spacing\n",
    "        mxc: number of meshes in x-direction\n",
    "        myc: number of meshes in y-direction\n",
    "        \n",
    "    Based on the Matlab function of Dave Thompson\n",
    "    '''\n",
    "    xlen = (mxc-1)*dx\n",
    "    ylen = (myc-1)*dy\n",
    "    \n",
    "    x = np.arange(xp,xp+xlen,dx)\n",
    "    y = np.arange(yp,yp+ylen,dy)\n",
    "\n",
    "    X,Y = np.meshgrid(x,y);\n",
    "    X = X-xp\n",
    "    Y = Y-yp\n",
    "\n",
    "    if alp != 0.:\n",
    "       r,az = pcoord(X,Y)\n",
    "       X,Y = xycoord(r,az+alp)\n",
    "        \n",
    "    X = X+xp\n",
    "    Y = Y+yp\n",
    "    return X, Y"
   ]
  },
  {
   "cell_type": "code",
   "execution_count": 25,
   "metadata": {},
   "outputs": [],
   "source": [
    "# data directory\n",
    "ddir = r\"D:/crs/proj/2015_Sandwich/CCBay_Modeling/\""
   ]
  },
  {
   "cell_type": "code",
   "execution_count": 26,
   "metadata": {},
   "outputs": [],
   "source": [
    "# load the coarse shoreline\n",
    "s = np.genfromtxt(ddir+'shoreline.txt', delimiter=',')"
   ]
  },
  {
   "cell_type": "code",
   "execution_count": 6,
   "metadata": {},
   "outputs": [],
   "source": [
    "# import the fine grid file\n",
    "p = np.genfromtxt('all_points_xyz.txt', delimiter=',')"
   ]
  },
  {
   "cell_type": "code",
   "execution_count": 16,
   "metadata": {},
   "outputs": [],
   "source": [
    "# spacing for the three grids\n",
    "dxyf = 5.\n",
    "dxym = 35.\n",
    "dxyc = 245.\n",
    "# angle of north end"
   ]
  },
  {
   "cell_type": "code",
   "execution_count": 39,
   "metadata": {},
   "outputs": [
    {
     "name": "stdout",
     "output_type": "stream",
     "text": [
      "Coarse grid is 191.0 x 67.0, total = 12797.0\n",
      "\n"
     ]
    }
   ],
   "source": [
    "alp = 130.\n",
    "\n",
    "# make the coarse box\n",
    "# direction to origin of coarse grid...same angle for base line, even\n",
    "# increment of dxc\n",
    "# back calculate location of lower left corner from upper left corner\n",
    "LMc = 191.\n",
    "MMc = 67.\n",
    "xul = 366490.\n",
    "yul = 4652500.\n",
    "dxo,dyo = xycoord(MMc*dxyc,alp+90)\n",
    "xpc = xul+dxo\n",
    "ypc = yul+dyo\n",
    "\n",
    "xlenc = LMc*dxyc\n",
    "ylenc = MMc*dxyc\n",
    "\n",
    "# box corners\n",
    "bc = np.empty((4,2),float)\n",
    "bc[0,:]=[xpc,ypc]\n",
    "dxb, dyb = xycoord( xlenc, alp );\n",
    "bc[1,:] = bc[0,:]+[dxb, dyb];\n",
    "dxb, dyb = xycoord( ylenc, alp-90);\n",
    "bc[2,:] = bc[1,:]+[dxb, dyb];\n",
    "dxb, dyb = xycoord( xlenc, alp+180);\n",
    "bc[3,:] = bc[2,:]+[dxb, dyb]\n",
    "\n",
    "# make the coarse grid\n",
    "dxc = dxyc;\n",
    "dyc = dxyc;\n",
    "print('Coarse grid is {} x {}, total = {}\\n'.format(LMc,MMc,LMc*MMc))\n",
    "xlenc = LMc*dxc\n",
    "ylenc = MMc*dyc\n",
    "X,Y = buildGrid( 0., 0., alp-90., dxc, dyc, LMc, MMc );\n",
    "X = X + xpc\n",
    "Y = Y + ypc"
   ]
  },
  {
   "cell_type": "code",
   "execution_count": 37,
   "metadata": {},
   "outputs": [
    {
     "data": {
      "text/plain": [
       "[<matplotlib.lines.Line2D at 0x202809b4978>,\n",
       " <matplotlib.lines.Line2D at 0x202809ba278>,\n",
       " <matplotlib.lines.Line2D at 0x202809ba3c8>,\n",
       " <matplotlib.lines.Line2D at 0x202809ba518>,\n",
       " <matplotlib.lines.Line2D at 0x202809ba668>,\n",
       " <matplotlib.lines.Line2D at 0x202809ba7b8>,\n",
       " <matplotlib.lines.Line2D at 0x202809ba908>,\n",
       " <matplotlib.lines.Line2D at 0x202809baa58>,\n",
       " <matplotlib.lines.Line2D at 0x202809baba8>,\n",
       " <matplotlib.lines.Line2D at 0x202809bacf8>,\n",
       " <matplotlib.lines.Line2D at 0x202809bae48>,\n",
       " <matplotlib.lines.Line2D at 0x202809baf98>,\n",
       " <matplotlib.lines.Line2D at 0x202809c1128>,\n",
       " <matplotlib.lines.Line2D at 0x202809c1278>,\n",
       " <matplotlib.lines.Line2D at 0x202809c13c8>,\n",
       " <matplotlib.lines.Line2D at 0x202809c1518>,\n",
       " <matplotlib.lines.Line2D at 0x202809c1668>,\n",
       " <matplotlib.lines.Line2D at 0x202809c17b8>,\n",
       " <matplotlib.lines.Line2D at 0x202809c1908>,\n",
       " <matplotlib.lines.Line2D at 0x202809c1a58>,\n",
       " <matplotlib.lines.Line2D at 0x202809c1ba8>,\n",
       " <matplotlib.lines.Line2D at 0x202809c1cf8>,\n",
       " <matplotlib.lines.Line2D at 0x202809c1e48>,\n",
       " <matplotlib.lines.Line2D at 0x202809c1f98>,\n",
       " <matplotlib.lines.Line2D at 0x202809c7128>,\n",
       " <matplotlib.lines.Line2D at 0x202809c7278>,\n",
       " <matplotlib.lines.Line2D at 0x202809c73c8>,\n",
       " <matplotlib.lines.Line2D at 0x202809c7518>,\n",
       " <matplotlib.lines.Line2D at 0x202809c7668>,\n",
       " <matplotlib.lines.Line2D at 0x202809c77b8>,\n",
       " <matplotlib.lines.Line2D at 0x202809c7908>,\n",
       " <matplotlib.lines.Line2D at 0x202809c7a58>,\n",
       " <matplotlib.lines.Line2D at 0x202809c7ba8>,\n",
       " <matplotlib.lines.Line2D at 0x202809c7cf8>,\n",
       " <matplotlib.lines.Line2D at 0x202809c7e48>,\n",
       " <matplotlib.lines.Line2D at 0x202809c7f98>,\n",
       " <matplotlib.lines.Line2D at 0x202809cd128>,\n",
       " <matplotlib.lines.Line2D at 0x202809cd278>,\n",
       " <matplotlib.lines.Line2D at 0x202809cd3c8>,\n",
       " <matplotlib.lines.Line2D at 0x202809cd518>,\n",
       " <matplotlib.lines.Line2D at 0x202809cd668>,\n",
       " <matplotlib.lines.Line2D at 0x202809cd7b8>,\n",
       " <matplotlib.lines.Line2D at 0x202809cd908>,\n",
       " <matplotlib.lines.Line2D at 0x202809cda58>,\n",
       " <matplotlib.lines.Line2D at 0x202809cdba8>,\n",
       " <matplotlib.lines.Line2D at 0x202809cdcf8>,\n",
       " <matplotlib.lines.Line2D at 0x202809cde48>,\n",
       " <matplotlib.lines.Line2D at 0x202809cdf98>,\n",
       " <matplotlib.lines.Line2D at 0x202809d1128>,\n",
       " <matplotlib.lines.Line2D at 0x202809d1278>,\n",
       " <matplotlib.lines.Line2D at 0x202809d13c8>,\n",
       " <matplotlib.lines.Line2D at 0x202809d1518>,\n",
       " <matplotlib.lines.Line2D at 0x202809d1668>,\n",
       " <matplotlib.lines.Line2D at 0x202809d17b8>,\n",
       " <matplotlib.lines.Line2D at 0x202809d1908>,\n",
       " <matplotlib.lines.Line2D at 0x202809d1a58>,\n",
       " <matplotlib.lines.Line2D at 0x202809d1ba8>,\n",
       " <matplotlib.lines.Line2D at 0x202809d1cf8>,\n",
       " <matplotlib.lines.Line2D at 0x202809d1e48>,\n",
       " <matplotlib.lines.Line2D at 0x202809d1f98>,\n",
       " <matplotlib.lines.Line2D at 0x202809d7128>,\n",
       " <matplotlib.lines.Line2D at 0x202809d7278>,\n",
       " <matplotlib.lines.Line2D at 0x202809d73c8>,\n",
       " <matplotlib.lines.Line2D at 0x202809d7518>,\n",
       " <matplotlib.lines.Line2D at 0x202809d7668>,\n",
       " <matplotlib.lines.Line2D at 0x202809d77b8>,\n",
       " <matplotlib.lines.Line2D at 0x202809d7908>,\n",
       " <matplotlib.lines.Line2D at 0x202809d7a58>,\n",
       " <matplotlib.lines.Line2D at 0x202809d7ba8>,\n",
       " <matplotlib.lines.Line2D at 0x202809d7cf8>,\n",
       " <matplotlib.lines.Line2D at 0x202809d7e48>,\n",
       " <matplotlib.lines.Line2D at 0x202809d7f98>,\n",
       " <matplotlib.lines.Line2D at 0x202809dc128>,\n",
       " <matplotlib.lines.Line2D at 0x202809dc278>,\n",
       " <matplotlib.lines.Line2D at 0x202809dc3c8>,\n",
       " <matplotlib.lines.Line2D at 0x202809dc518>,\n",
       " <matplotlib.lines.Line2D at 0x202809dc668>,\n",
       " <matplotlib.lines.Line2D at 0x202809dc7b8>,\n",
       " <matplotlib.lines.Line2D at 0x202809dc908>,\n",
       " <matplotlib.lines.Line2D at 0x202809dca58>,\n",
       " <matplotlib.lines.Line2D at 0x202809dcba8>,\n",
       " <matplotlib.lines.Line2D at 0x202809dccf8>,\n",
       " <matplotlib.lines.Line2D at 0x202809dce48>,\n",
       " <matplotlib.lines.Line2D at 0x202809dcf98>,\n",
       " <matplotlib.lines.Line2D at 0x202809e2128>,\n",
       " <matplotlib.lines.Line2D at 0x202809e2278>,\n",
       " <matplotlib.lines.Line2D at 0x202809e23c8>,\n",
       " <matplotlib.lines.Line2D at 0x202809e2518>,\n",
       " <matplotlib.lines.Line2D at 0x202809e2668>,\n",
       " <matplotlib.lines.Line2D at 0x202809e27b8>,\n",
       " <matplotlib.lines.Line2D at 0x202809e2908>,\n",
       " <matplotlib.lines.Line2D at 0x202809e2a58>,\n",
       " <matplotlib.lines.Line2D at 0x202809e2ba8>,\n",
       " <matplotlib.lines.Line2D at 0x202809e2cf8>,\n",
       " <matplotlib.lines.Line2D at 0x202809e2e48>,\n",
       " <matplotlib.lines.Line2D at 0x202809e2f98>,\n",
       " <matplotlib.lines.Line2D at 0x202809e6128>,\n",
       " <matplotlib.lines.Line2D at 0x202809e6278>,\n",
       " <matplotlib.lines.Line2D at 0x202809e63c8>,\n",
       " <matplotlib.lines.Line2D at 0x202809e6518>,\n",
       " <matplotlib.lines.Line2D at 0x202809e6668>,\n",
       " <matplotlib.lines.Line2D at 0x202809e67b8>,\n",
       " <matplotlib.lines.Line2D at 0x202809e6908>,\n",
       " <matplotlib.lines.Line2D at 0x202809e6a58>,\n",
       " <matplotlib.lines.Line2D at 0x202809e6ba8>,\n",
       " <matplotlib.lines.Line2D at 0x202809e6cf8>,\n",
       " <matplotlib.lines.Line2D at 0x202809e6e48>,\n",
       " <matplotlib.lines.Line2D at 0x202809e6f98>,\n",
       " <matplotlib.lines.Line2D at 0x202809ec128>,\n",
       " <matplotlib.lines.Line2D at 0x202809ec278>,\n",
       " <matplotlib.lines.Line2D at 0x202809ec3c8>,\n",
       " <matplotlib.lines.Line2D at 0x202809ec518>,\n",
       " <matplotlib.lines.Line2D at 0x202809ec668>,\n",
       " <matplotlib.lines.Line2D at 0x202809ec7b8>,\n",
       " <matplotlib.lines.Line2D at 0x202809ec908>,\n",
       " <matplotlib.lines.Line2D at 0x202809eca58>,\n",
       " <matplotlib.lines.Line2D at 0x202809ecba8>,\n",
       " <matplotlib.lines.Line2D at 0x202809eccf8>,\n",
       " <matplotlib.lines.Line2D at 0x202809ece48>,\n",
       " <matplotlib.lines.Line2D at 0x202809ecf98>,\n",
       " <matplotlib.lines.Line2D at 0x202809f2128>,\n",
       " <matplotlib.lines.Line2D at 0x202809f2278>,\n",
       " <matplotlib.lines.Line2D at 0x202809f23c8>,\n",
       " <matplotlib.lines.Line2D at 0x202809f2518>,\n",
       " <matplotlib.lines.Line2D at 0x202809f2668>,\n",
       " <matplotlib.lines.Line2D at 0x202809f27b8>,\n",
       " <matplotlib.lines.Line2D at 0x202809f2908>,\n",
       " <matplotlib.lines.Line2D at 0x202809f2a58>,\n",
       " <matplotlib.lines.Line2D at 0x202809f2ba8>,\n",
       " <matplotlib.lines.Line2D at 0x202809f2cf8>,\n",
       " <matplotlib.lines.Line2D at 0x202809f2e48>,\n",
       " <matplotlib.lines.Line2D at 0x202809f2f98>,\n",
       " <matplotlib.lines.Line2D at 0x202809f8128>,\n",
       " <matplotlib.lines.Line2D at 0x202809f8278>,\n",
       " <matplotlib.lines.Line2D at 0x202809f83c8>,\n",
       " <matplotlib.lines.Line2D at 0x202809f8518>,\n",
       " <matplotlib.lines.Line2D at 0x202809f8668>,\n",
       " <matplotlib.lines.Line2D at 0x202809f87b8>,\n",
       " <matplotlib.lines.Line2D at 0x202809f8908>,\n",
       " <matplotlib.lines.Line2D at 0x202809f8a58>,\n",
       " <matplotlib.lines.Line2D at 0x202809f8ba8>,\n",
       " <matplotlib.lines.Line2D at 0x202809f8cf8>,\n",
       " <matplotlib.lines.Line2D at 0x202809f8e48>,\n",
       " <matplotlib.lines.Line2D at 0x202809f8f98>,\n",
       " <matplotlib.lines.Line2D at 0x202809fc128>,\n",
       " <matplotlib.lines.Line2D at 0x202809fc278>,\n",
       " <matplotlib.lines.Line2D at 0x202809fc3c8>,\n",
       " <matplotlib.lines.Line2D at 0x202809fc518>,\n",
       " <matplotlib.lines.Line2D at 0x202809fc668>,\n",
       " <matplotlib.lines.Line2D at 0x202809fc7b8>,\n",
       " <matplotlib.lines.Line2D at 0x202809fc908>,\n",
       " <matplotlib.lines.Line2D at 0x202809fca58>,\n",
       " <matplotlib.lines.Line2D at 0x202809fcba8>,\n",
       " <matplotlib.lines.Line2D at 0x202809fccf8>,\n",
       " <matplotlib.lines.Line2D at 0x202809fce48>,\n",
       " <matplotlib.lines.Line2D at 0x202809fcf98>,\n",
       " <matplotlib.lines.Line2D at 0x20280a02128>,\n",
       " <matplotlib.lines.Line2D at 0x20280a02278>,\n",
       " <matplotlib.lines.Line2D at 0x20280a023c8>,\n",
       " <matplotlib.lines.Line2D at 0x20280a02518>,\n",
       " <matplotlib.lines.Line2D at 0x20280a02668>,\n",
       " <matplotlib.lines.Line2D at 0x20280a027b8>,\n",
       " <matplotlib.lines.Line2D at 0x20280a02908>,\n",
       " <matplotlib.lines.Line2D at 0x20280a02a58>,\n",
       " <matplotlib.lines.Line2D at 0x20280a02ba8>,\n",
       " <matplotlib.lines.Line2D at 0x20280a02cf8>,\n",
       " <matplotlib.lines.Line2D at 0x20280a02e48>,\n",
       " <matplotlib.lines.Line2D at 0x20280a02f98>,\n",
       " <matplotlib.lines.Line2D at 0x20280a07128>,\n",
       " <matplotlib.lines.Line2D at 0x20280a07278>,\n",
       " <matplotlib.lines.Line2D at 0x20280a073c8>,\n",
       " <matplotlib.lines.Line2D at 0x20280a07518>,\n",
       " <matplotlib.lines.Line2D at 0x20280a07668>,\n",
       " <matplotlib.lines.Line2D at 0x20280a077b8>,\n",
       " <matplotlib.lines.Line2D at 0x20280a07908>,\n",
       " <matplotlib.lines.Line2D at 0x20280a07a58>,\n",
       " <matplotlib.lines.Line2D at 0x20280a07ba8>,\n",
       " <matplotlib.lines.Line2D at 0x20280a07cf8>,\n",
       " <matplotlib.lines.Line2D at 0x20280a07e48>,\n",
       " <matplotlib.lines.Line2D at 0x20280a07f98>,\n",
       " <matplotlib.lines.Line2D at 0x20280a0d128>,\n",
       " <matplotlib.lines.Line2D at 0x20280a0d278>,\n",
       " <matplotlib.lines.Line2D at 0x20280a0d3c8>,\n",
       " <matplotlib.lines.Line2D at 0x20280a0d518>,\n",
       " <matplotlib.lines.Line2D at 0x20280a0d668>,\n",
       " <matplotlib.lines.Line2D at 0x20280a0d7b8>,\n",
       " <matplotlib.lines.Line2D at 0x20280a0d908>,\n",
       " <matplotlib.lines.Line2D at 0x20280a0da58>,\n",
       " <matplotlib.lines.Line2D at 0x20280a0dba8>,\n",
       " <matplotlib.lines.Line2D at 0x20280a0dcf8>]"
      ]
     },
     "execution_count": 37,
     "metadata": {},
     "output_type": "execute_result"
    },
    {
     "data": {
      "image/png": "[encoded data removed]",
      "text/plain": [
       "<Figure size 432x288 with 1 Axes>"
      ]
     },
     "metadata": {},
     "output_type": "display_data"
    }
   ],
   "source": [
    "plt.plot(s[:,0],s[:,1],'.k')\n",
    "plt.plot(bc[:,0],bc[:,1],'or')\n",
    "plt.plot(bc[:,0],bc[:,1],'-r')\n",
    "plt.plot([bc[0,0], bc[3,0]],[bc[0,1], bc[3,1]],'-r')\n",
    "plt.plot(X,Y,'.r')"
   ]
  },
  {
   "cell_type": "code",
   "execution_count": 57,
   "metadata": {},
   "outputs": [
    {
     "name": "stdout",
     "output_type": "stream",
     "text": [
      "(64528617, 3)\n"
     ]
    }
   ],
   "source": [
    "print(p.shape)\n",
    "shp = X.shape"
   ]
  },
  {
   "cell_type": "code",
   "execution_count": 58,
   "metadata": {},
   "outputs": [
    {
     "name": "stdout",
     "output_type": "stream",
     "text": [
      "Wall time: 11 s\n"
     ]
    }
   ],
   "source": [
    "%%time\n",
    "# interpolate data on to coarse grid\n",
    "z= interpolate.griddata(p[:,0:1], p[:,2], [X, Y], method='linear', fill_value=np.NaN, rescale=False)"
   ]
  },
  {
   "cell_type": "code",
   "execution_count": 59,
   "metadata": {},
   "outputs": [
    {
     "name": "stdout",
     "output_type": "stream",
     "text": [
      "(2, 66, 190)\n"
     ]
    }
   ],
   "source": [
    "shp = X.shape\n",
    "print(z.shape)"
   ]
  },
  {
   "cell_type": "code",
   "execution_count": 60,
   "metadata": {},
   "outputs": [
    {
     "ename": "ValueError",
     "evalue": "c of shape (2, 66, 190) not acceptable as a color sequence for x with size 12540, y with size 12540",
     "output_type": "error",
     "traceback": [
      "\u001b[1;31m---------------------------------------------------------------------------\u001b[0m",
      "\u001b[1;31mTypeError\u001b[0m                                 Traceback (most recent call last)",
      "\u001b[1;32m~\\AppData\\Local\\Continuum\\miniconda3\\envs\\IOOS3\\lib\\site-packages\\matplotlib\\colors.py\u001b[0m in \u001b[0;36mto_rgba\u001b[1;34m(c, alpha)\u001b[0m\n\u001b[0;32m    165\u001b[0m     \u001b[1;32mtry\u001b[0m\u001b[1;33m:\u001b[0m\u001b[1;33m\u001b[0m\u001b[0m\n\u001b[1;32m--> 166\u001b[1;33m         \u001b[0mrgba\u001b[0m \u001b[1;33m=\u001b[0m \u001b[0m_colors_full_map\u001b[0m\u001b[1;33m.\u001b[0m\u001b[0mcache\u001b[0m\u001b[1;33m[\u001b[0m\u001b[0mc\u001b[0m\u001b[1;33m,\u001b[0m \u001b[0malpha\u001b[0m\u001b[1;33m]\u001b[0m\u001b[1;33m\u001b[0m\u001b[0m\n\u001b[0m\u001b[0;32m    167\u001b[0m     \u001b[1;32mexcept\u001b[0m \u001b[1;33m(\u001b[0m\u001b[0mKeyError\u001b[0m\u001b[1;33m,\u001b[0m \u001b[0mTypeError\u001b[0m\u001b[1;33m)\u001b[0m\u001b[1;33m:\u001b[0m  \u001b[1;31m# Not in cache, or unhashable.\u001b[0m\u001b[1;33m\u001b[0m\u001b[0m\n",
      "\u001b[1;31mTypeError\u001b[0m: unhashable type: 'numpy.ndarray'",
      "\nDuring handling of the above exception, another exception occurred:\n",
      "\u001b[1;31mValueError\u001b[0m                                Traceback (most recent call last)",
      "\u001b[1;32m~\\AppData\\Local\\Continuum\\miniconda3\\envs\\IOOS3\\lib\\site-packages\\matplotlib\\axes\\_axes.py\u001b[0m in \u001b[0;36mscatter\u001b[1;34m(self, x, y, s, c, marker, cmap, norm, vmin, vmax, alpha, linewidths, verts, edgecolors, **kwargs)\u001b[0m\n\u001b[0;32m   4287\u001b[0m                 \u001b[1;31m# must be acceptable as PathCollection facecolors\u001b[0m\u001b[1;33m\u001b[0m\u001b[1;33m\u001b[0m\u001b[0m\n\u001b[1;32m-> 4288\u001b[1;33m                 \u001b[0mcolors\u001b[0m \u001b[1;33m=\u001b[0m \u001b[0mmcolors\u001b[0m\u001b[1;33m.\u001b[0m\u001b[0mto_rgba_array\u001b[0m\u001b[1;33m(\u001b[0m\u001b[0mc\u001b[0m\u001b[1;33m)\u001b[0m\u001b[1;33m\u001b[0m\u001b[0m\n\u001b[0m\u001b[0;32m   4289\u001b[0m             \u001b[1;32mexcept\u001b[0m \u001b[0mValueError\u001b[0m\u001b[1;33m:\u001b[0m\u001b[1;33m\u001b[0m\u001b[0m\n",
      "\u001b[1;32m~\\AppData\\Local\\Continuum\\miniconda3\\envs\\IOOS3\\lib\\site-packages\\matplotlib\\colors.py\u001b[0m in \u001b[0;36mto_rgba_array\u001b[1;34m(c, alpha)\u001b[0m\n\u001b[0;32m    266\u001b[0m     \u001b[1;32mfor\u001b[0m \u001b[0mi\u001b[0m\u001b[1;33m,\u001b[0m \u001b[0mcc\u001b[0m \u001b[1;32min\u001b[0m \u001b[0menumerate\u001b[0m\u001b[1;33m(\u001b[0m\u001b[0mc\u001b[0m\u001b[1;33m)\u001b[0m\u001b[1;33m:\u001b[0m\u001b[1;33m\u001b[0m\u001b[0m\n\u001b[1;32m--> 267\u001b[1;33m         \u001b[0mresult\u001b[0m\u001b[1;33m[\u001b[0m\u001b[0mi\u001b[0m\u001b[1;33m]\u001b[0m \u001b[1;33m=\u001b[0m \u001b[0mto_rgba\u001b[0m\u001b[1;33m(\u001b[0m\u001b[0mcc\u001b[0m\u001b[1;33m,\u001b[0m \u001b[0malpha\u001b[0m\u001b[1;33m)\u001b[0m\u001b[1;33m\u001b[0m\u001b[0m\n\u001b[0m\u001b[0;32m    268\u001b[0m     \u001b[1;32mreturn\u001b[0m \u001b[0mresult\u001b[0m\u001b[1;33m\u001b[0m\u001b[0m\n",
      "\u001b[1;32m~\\AppData\\Local\\Continuum\\miniconda3\\envs\\IOOS3\\lib\\site-packages\\matplotlib\\colors.py\u001b[0m in \u001b[0;36mto_rgba\u001b[1;34m(c, alpha)\u001b[0m\n\u001b[0;32m    167\u001b[0m     \u001b[1;32mexcept\u001b[0m \u001b[1;33m(\u001b[0m\u001b[0mKeyError\u001b[0m\u001b[1;33m,\u001b[0m \u001b[0mTypeError\u001b[0m\u001b[1;33m)\u001b[0m\u001b[1;33m:\u001b[0m  \u001b[1;31m# Not in cache, or unhashable.\u001b[0m\u001b[1;33m\u001b[0m\u001b[0m\n\u001b[1;32m--> 168\u001b[1;33m         \u001b[0mrgba\u001b[0m \u001b[1;33m=\u001b[0m \u001b[0m_to_rgba_no_colorcycle\u001b[0m\u001b[1;33m(\u001b[0m\u001b[0mc\u001b[0m\u001b[1;33m,\u001b[0m \u001b[0malpha\u001b[0m\u001b[1;33m)\u001b[0m\u001b[1;33m\u001b[0m\u001b[0m\n\u001b[0m\u001b[0;32m    169\u001b[0m         \u001b[1;32mtry\u001b[0m\u001b[1;33m:\u001b[0m\u001b[1;33m\u001b[0m\u001b[0m\n",
      "\u001b[1;32m~\\AppData\\Local\\Continuum\\miniconda3\\envs\\IOOS3\\lib\\site-packages\\matplotlib\\colors.py\u001b[0m in \u001b[0;36m_to_rgba_no_colorcycle\u001b[1;34m(c, alpha)\u001b[0m\n\u001b[0;32m    218\u001b[0m         \u001b[1;31m# Test dimensionality to reject single floats.\u001b[0m\u001b[1;33m\u001b[0m\u001b[1;33m\u001b[0m\u001b[0m\n\u001b[1;32m--> 219\u001b[1;33m         \u001b[1;32mraise\u001b[0m \u001b[0mValueError\u001b[0m\u001b[1;33m(\u001b[0m\u001b[1;34m\"Invalid RGBA argument: {!r}\"\u001b[0m\u001b[1;33m.\u001b[0m\u001b[0mformat\u001b[0m\u001b[1;33m(\u001b[0m\u001b[0morig_c\u001b[0m\u001b[1;33m)\u001b[0m\u001b[1;33m)\u001b[0m\u001b[1;33m\u001b[0m\u001b[0m\n\u001b[0m\u001b[0;32m    220\u001b[0m     \u001b[1;31m# Return a tuple to prevent the cached value from being modified.\u001b[0m\u001b[1;33m\u001b[0m\u001b[1;33m\u001b[0m\u001b[0m\n",
      "\u001b[1;31mValueError\u001b[0m: Invalid RGBA argument: array([[  6.69426572,   8.60019659,  20.66219441, ..., -48.35681612,\n        -23.58166831, -15.93038409],\n       [ 25.04506971,  10.65959958,  17.61370811, ..., -33.5898994 ,\n        -39.04617115, -32.11593135],\n       [ 22.66704754,   6.51645771,  23.41352311, ..., -55.13735563,\n        -48.33370332, -50.43858097],\n       ..., \n       [  9.89153034,  45.0725488 ,  20.21299983, ..., -29.96546765,\n         -3.8559761 , -18.34964955],\n       [ -8.35118138,  -7.8084018 ,  39.68041931, ...,   6.74256507,\n        -22.94106835, -30.2456563 ],\n       [-15.76825577,  56.04765267,   7.28157421, ..., -17.44121796,\n        -10.53349886, -11.81966625]])",
      "\nDuring handling of the above exception, another exception occurred:\n",
      "\u001b[1;31mValueError\u001b[0m                                Traceback (most recent call last)",
      "\u001b[1;32m<ipython-input-60-cea43c358cdc>\u001b[0m in \u001b[0;36m<module>\u001b[1;34m()\u001b[0m\n\u001b[1;32m----> 1\u001b[1;33m \u001b[0mplt\u001b[0m\u001b[1;33m.\u001b[0m\u001b[0mscatter\u001b[0m\u001b[1;33m(\u001b[0m\u001b[0mX\u001b[0m\u001b[1;33m,\u001b[0m\u001b[0mY\u001b[0m\u001b[1;33m,\u001b[0m\u001b[1;36m16\u001b[0m\u001b[1;33m,\u001b[0m\u001b[0mz\u001b[0m\u001b[1;33m)\u001b[0m\u001b[1;33m\u001b[0m\u001b[0m\n\u001b[0m",
      "\u001b[1;32m~\\AppData\\Local\\Continuum\\miniconda3\\envs\\IOOS3\\lib\\site-packages\\matplotlib\\pyplot.py\u001b[0m in \u001b[0;36mscatter\u001b[1;34m(x, y, s, c, marker, cmap, norm, vmin, vmax, alpha, linewidths, verts, edgecolors, hold, data, **kwargs)\u001b[0m\n\u001b[0;32m   3473\u001b[0m                          \u001b[0mvmin\u001b[0m\u001b[1;33m=\u001b[0m\u001b[0mvmin\u001b[0m\u001b[1;33m,\u001b[0m \u001b[0mvmax\u001b[0m\u001b[1;33m=\u001b[0m\u001b[0mvmax\u001b[0m\u001b[1;33m,\u001b[0m \u001b[0malpha\u001b[0m\u001b[1;33m=\u001b[0m\u001b[0malpha\u001b[0m\u001b[1;33m,\u001b[0m\u001b[1;33m\u001b[0m\u001b[0m\n\u001b[0;32m   3474\u001b[0m                          \u001b[0mlinewidths\u001b[0m\u001b[1;33m=\u001b[0m\u001b[0mlinewidths\u001b[0m\u001b[1;33m,\u001b[0m \u001b[0mverts\u001b[0m\u001b[1;33m=\u001b[0m\u001b[0mverts\u001b[0m\u001b[1;33m,\u001b[0m\u001b[1;33m\u001b[0m\u001b[0m\n\u001b[1;32m-> 3475\u001b[1;33m                          edgecolors=edgecolors, data=data, **kwargs)\n\u001b[0m\u001b[0;32m   3476\u001b[0m     \u001b[1;32mfinally\u001b[0m\u001b[1;33m:\u001b[0m\u001b[1;33m\u001b[0m\u001b[0m\n\u001b[0;32m   3477\u001b[0m         \u001b[0max\u001b[0m\u001b[1;33m.\u001b[0m\u001b[0m_hold\u001b[0m \u001b[1;33m=\u001b[0m \u001b[0mwashold\u001b[0m\u001b[1;33m\u001b[0m\u001b[0m\n",
      "\u001b[1;32m~\\AppData\\Local\\Continuum\\miniconda3\\envs\\IOOS3\\lib\\site-packages\\matplotlib\\__init__.py\u001b[0m in \u001b[0;36minner\u001b[1;34m(ax, *args, **kwargs)\u001b[0m\n\u001b[0;32m   1865\u001b[0m                         \u001b[1;34m\"the Matplotlib list!)\"\u001b[0m \u001b[1;33m%\u001b[0m \u001b[1;33m(\u001b[0m\u001b[0mlabel_namer\u001b[0m\u001b[1;33m,\u001b[0m \u001b[0mfunc\u001b[0m\u001b[1;33m.\u001b[0m\u001b[0m__name__\u001b[0m\u001b[1;33m)\u001b[0m\u001b[1;33m,\u001b[0m\u001b[1;33m\u001b[0m\u001b[0m\n\u001b[0;32m   1866\u001b[0m                         RuntimeWarning, stacklevel=2)\n\u001b[1;32m-> 1867\u001b[1;33m             \u001b[1;32mreturn\u001b[0m \u001b[0mfunc\u001b[0m\u001b[1;33m(\u001b[0m\u001b[0max\u001b[0m\u001b[1;33m,\u001b[0m \u001b[1;33m*\u001b[0m\u001b[0margs\u001b[0m\u001b[1;33m,\u001b[0m \u001b[1;33m**\u001b[0m\u001b[0mkwargs\u001b[0m\u001b[1;33m)\u001b[0m\u001b[1;33m\u001b[0m\u001b[0m\n\u001b[0m\u001b[0;32m   1868\u001b[0m \u001b[1;33m\u001b[0m\u001b[0m\n\u001b[0;32m   1869\u001b[0m         inner.__doc__ = _add_data_doc(inner.__doc__,\n",
      "\u001b[1;32m~\\AppData\\Local\\Continuum\\miniconda3\\envs\\IOOS3\\lib\\site-packages\\matplotlib\\axes\\_axes.py\u001b[0m in \u001b[0;36mscatter\u001b[1;34m(self, x, y, s, c, marker, cmap, norm, vmin, vmax, alpha, linewidths, verts, edgecolors, **kwargs)\u001b[0m\n\u001b[0;32m   4291\u001b[0m                 raise ValueError(\"c of shape {} not acceptable as a color \"\n\u001b[0;32m   4292\u001b[0m                                  \u001b[1;34m\"sequence for x with size {}, y with size {}\"\u001b[0m\u001b[1;33m\u001b[0m\u001b[0m\n\u001b[1;32m-> 4293\u001b[1;33m                                  .format(c.shape, x.size, y.size))\n\u001b[0m\u001b[0;32m   4294\u001b[0m         \u001b[1;32melse\u001b[0m\u001b[1;33m:\u001b[0m\u001b[1;33m\u001b[0m\u001b[0m\n\u001b[0;32m   4295\u001b[0m             \u001b[0mcolors\u001b[0m \u001b[1;33m=\u001b[0m \u001b[1;32mNone\u001b[0m  \u001b[1;31m# use cmap, norm after collection is created\u001b[0m\u001b[1;33m\u001b[0m\u001b[0m\n",
      "\u001b[1;31mValueError\u001b[0m: c of shape (2, 66, 190) not acceptable as a color sequence for x with size 12540, y with size 12540"
     ]
    },
    {
     "data": {
      "image/png": "[encoded data removed]",
      "text/plain": [
       "<Figure size 432x288 with 1 Axes>"
      ]
     },
     "metadata": {},
     "output_type": "display_data"
    }
   ],
   "source": [
    "plt.scatter(X,Y,16,z)"
   ]
  },
  {
   "cell_type": "code",
   "execution_count": null,
   "metadata": {},
   "outputs": [],
   "source": []
  }
 ],
 "metadata": {
  "kernelspec": {
   "display_name": "Python 3",
   "language": "python",
   "name": "python3"
  },
  "language_info": {
   "codemirror_mode": {
    "name": "ipython",
    "version": 3
   },
   "file_extension": ".py",
   "mimetype": "text/x-python",
   "name": "python",
   "nbconvert_exporter": "python",
   "pygments_lexer": "ipython3",
   "version": "3.6.3"
  }
 },
 "nbformat": 4,
 "nbformat_minor": 2
}
